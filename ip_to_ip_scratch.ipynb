{
  "nbformat": 4,
  "nbformat_minor": 5,
  "metadata": {
    "kernelspec": {
      "display_name": "Python 3",
      "language": "python",
      "name": "python3"
    },
    "language_info": {
      "codemirror_mode": {
        "name": "ipython",
        "version": 3
      },
      "file_extension": ".py",
      "mimetype": "text/x-python",
      "name": "python",
      "nbconvert_exporter": "python",
      "pygments_lexer": "ipython3",
      "version": "3.8.5"
    },
    "colab": {
      "name": "ip_to_ip_scratch.ipynb",
      "provenance": [],
      "include_colab_link": true
    }
  },
  "cells": [
    {
      "cell_type": "markdown",
      "metadata": {
        "id": "view-in-github",
        "colab_type": "text"
      },
      "source": [
        "<a href=\"https://colab.research.google.com/github/kentlingcampbell/MSBX5500-002SecurityAnalyticsS21/blob/main/ip_to_ip_scratch.ipynb\" target=\"_parent\"><img src=\"https://colab.research.google.com/assets/colab-badge.svg\" alt=\"Open In Colab\"/></a>"
      ]
    },
    {
      "cell_type": "code",
      "metadata": {
        "id": "GS9Yfmh_7QO3"
      },
      "source": [
        "# IP-to-IP matrix for CU HIN class project\n",
        "# jaca3214 - Campbell"
      ],
      "id": "GS9Yfmh_7QO3",
      "execution_count": null,
      "outputs": []
    },
    {
      "cell_type": "code",
      "metadata": {
        "id": "9aru0O887QPA"
      },
      "source": [
        "import pandas as pd\n",
        "ip2ip = pd.read_csv('https://drive.google.com/u/0/uc?id=14DslFip8TOv8pWd1LTWZl8Jj2fIyEW_Q&export=download', header=None, usecols=[10, 11], names=['srcaddr', 'destaddr'])"
      ],
      "id": "9aru0O887QPA",
      "execution_count": 6,
      "outputs": []
    },
    {
      "cell_type": "code",
      "metadata": {
        "colab": {
          "base_uri": "https://localhost:8080/"
        },
        "id": "jdbemtId7QPB",
        "outputId": "a0a1bb0f-8b93-4b76-caf2-fdaf3f17171b"
      },
      "source": [
        "# create list of unique addresses\n",
        "#ip2ip.iloc[:, 0].unique()\n",
        "srcuniq = ip2ip['srcaddr'].unique()\n",
        "destuniq = ip2ip['destaddr'].unique()\n",
        "srcuniq"
      ],
      "id": "jdbemtId7QPB",
      "execution_count": 7,
      "outputs": [
        {
          "output_type": "execute_result",
          "data": {
            "text/plain": [
              "array(['226.250.192.168', '22.191.230.164', '140.158.210.113',\n",
              "       '109.134.252.111', '51.227.248.3', '57.109.60.180',\n",
              "       '173.67.206.11', '88.27.104.123', '170.222.188.73',\n",
              "       '238.132.102.138', '17.25.131.171', '73.58.240.63',\n",
              "       '176.240.154.159', '38.206.128.77', '79.26.98.205',\n",
              "       '143.207.234.243', '105.86.246.100', '111.212.55.20'], dtype=object)"
            ]
          },
          "metadata": {
            "tags": []
          },
          "execution_count": 7
        }
      ]
    },
    {
      "cell_type": "code",
      "metadata": {
        "colab": {
          "base_uri": "https://localhost:8080/"
        },
        "id": "Q1QmK2HX7QPD",
        "outputId": "6c94c256-cb0c-46c4-ab2e-29163971ceac"
      },
      "source": [
        "# create dictionary, 'd'\n",
        "srcdict = dict(zip(srcuniq, range(len(srcuniq))))\n",
        "destdict = dict(zip(destuniq, range(len(destuniq))))\n",
        "srcdict"
      ],
      "id": "Q1QmK2HX7QPD",
      "execution_count": 8,
      "outputs": [
        {
          "output_type": "execute_result",
          "data": {
            "text/plain": [
              "{'105.86.246.100': 16,\n",
              " '109.134.252.111': 3,\n",
              " '111.212.55.20': 17,\n",
              " '140.158.210.113': 2,\n",
              " '143.207.234.243': 15,\n",
              " '17.25.131.171': 10,\n",
              " '170.222.188.73': 8,\n",
              " '173.67.206.11': 6,\n",
              " '176.240.154.159': 12,\n",
              " '22.191.230.164': 1,\n",
              " '226.250.192.168': 0,\n",
              " '238.132.102.138': 9,\n",
              " '38.206.128.77': 13,\n",
              " '51.227.248.3': 4,\n",
              " '57.109.60.180': 5,\n",
              " '73.58.240.63': 11,\n",
              " '79.26.98.205': 14,\n",
              " '88.27.104.123': 7}"
            ]
          },
          "metadata": {
            "tags": []
          },
          "execution_count": 8
        }
      ]
    },
    {
      "cell_type": "code",
      "metadata": {
        "colab": {
          "base_uri": "https://localhost:8080/"
        },
        "id": "Ef7ErbZa7QPE",
        "outputId": "aaf8e665-469e-419c-843b-a7b0ed06c4b1"
      },
      "source": [
        "# inverse dictionary, 'r'\n",
        "inv_srcdict = {v: k for k, v in srcdict.items()}\n",
        "inv_destdict = {v: k for k, v in destdict.items()}\n",
        "inv_srcdict"
      ],
      "id": "Ef7ErbZa7QPE",
      "execution_count": 9,
      "outputs": [
        {
          "output_type": "execute_result",
          "data": {
            "text/plain": [
              "{0: '226.250.192.168',\n",
              " 1: '22.191.230.164',\n",
              " 2: '140.158.210.113',\n",
              " 3: '109.134.252.111',\n",
              " 4: '51.227.248.3',\n",
              " 5: '57.109.60.180',\n",
              " 6: '173.67.206.11',\n",
              " 7: '88.27.104.123',\n",
              " 8: '170.222.188.73',\n",
              " 9: '238.132.102.138',\n",
              " 10: '17.25.131.171',\n",
              " 11: '73.58.240.63',\n",
              " 12: '176.240.154.159',\n",
              " 13: '38.206.128.77',\n",
              " 14: '79.26.98.205',\n",
              " 15: '143.207.234.243',\n",
              " 16: '105.86.246.100',\n",
              " 17: '111.212.55.20'}"
            ]
          },
          "metadata": {
            "tags": []
          },
          "execution_count": 9
        }
      ]
    },
    {
      "cell_type": "code",
      "metadata": {
        "colab": {
          "base_uri": "https://localhost:8080/",
          "height": 700
        },
        "id": "hXOLoxL77QPE",
        "outputId": "41228f15-d53b-45a4-ddc0-acc01113d0fc"
      },
      "source": [
        "ip2ip['srcint'] = ip2ip['srcaddr'].map(srcdict)\n",
        "ip2ip['destint'] = ip2ip['destaddr'].map(destdict)\n",
        "ip2ip"
      ],
      "id": "hXOLoxL77QPE",
      "execution_count": 10,
      "outputs": [
        {
          "output_type": "execute_result",
          "data": {
            "text/html": [
              "<div>\n",
              "<style scoped>\n",
              "    .dataframe tbody tr th:only-of-type {\n",
              "        vertical-align: middle;\n",
              "    }\n",
              "\n",
              "    .dataframe tbody tr th {\n",
              "        vertical-align: top;\n",
              "    }\n",
              "\n",
              "    .dataframe thead th {\n",
              "        text-align: right;\n",
              "    }\n",
              "</style>\n",
              "<table border=\"1\" class=\"dataframe\">\n",
              "  <thead>\n",
              "    <tr style=\"text-align: right;\">\n",
              "      <th></th>\n",
              "      <th>srcaddr</th>\n",
              "      <th>destaddr</th>\n",
              "      <th>srcint</th>\n",
              "      <th>destint</th>\n",
              "    </tr>\n",
              "  </thead>\n",
              "  <tbody>\n",
              "    <tr>\n",
              "      <th>0</th>\n",
              "      <td>226.250.192.168</td>\n",
              "      <td>7.105.169.129</td>\n",
              "      <td>0</td>\n",
              "      <td>0</td>\n",
              "    </tr>\n",
              "    <tr>\n",
              "      <th>1</th>\n",
              "      <td>22.191.230.164</td>\n",
              "      <td>79.64.84.231</td>\n",
              "      <td>1</td>\n",
              "      <td>1</td>\n",
              "    </tr>\n",
              "    <tr>\n",
              "      <th>2</th>\n",
              "      <td>140.158.210.113</td>\n",
              "      <td>224.130.88.241</td>\n",
              "      <td>2</td>\n",
              "      <td>2</td>\n",
              "    </tr>\n",
              "    <tr>\n",
              "      <th>3</th>\n",
              "      <td>109.134.252.111</td>\n",
              "      <td>195.215.145.99</td>\n",
              "      <td>3</td>\n",
              "      <td>3</td>\n",
              "    </tr>\n",
              "    <tr>\n",
              "      <th>4</th>\n",
              "      <td>51.227.248.3</td>\n",
              "      <td>157.136.6.22</td>\n",
              "      <td>4</td>\n",
              "      <td>4</td>\n",
              "    </tr>\n",
              "    <tr>\n",
              "      <th>5</th>\n",
              "      <td>57.109.60.180</td>\n",
              "      <td>47.219.197.213</td>\n",
              "      <td>5</td>\n",
              "      <td>5</td>\n",
              "    </tr>\n",
              "    <tr>\n",
              "      <th>6</th>\n",
              "      <td>173.67.206.11</td>\n",
              "      <td>240.228.40.207</td>\n",
              "      <td>6</td>\n",
              "      <td>6</td>\n",
              "    </tr>\n",
              "    <tr>\n",
              "      <th>7</th>\n",
              "      <td>226.250.192.168</td>\n",
              "      <td>36.70.168.49</td>\n",
              "      <td>0</td>\n",
              "      <td>7</td>\n",
              "    </tr>\n",
              "    <tr>\n",
              "      <th>8</th>\n",
              "      <td>88.27.104.123</td>\n",
              "      <td>198.133.95.169</td>\n",
              "      <td>7</td>\n",
              "      <td>8</td>\n",
              "    </tr>\n",
              "    <tr>\n",
              "      <th>9</th>\n",
              "      <td>170.222.188.73</td>\n",
              "      <td>195.215.145.99</td>\n",
              "      <td>8</td>\n",
              "      <td>3</td>\n",
              "    </tr>\n",
              "    <tr>\n",
              "      <th>10</th>\n",
              "      <td>238.132.102.138</td>\n",
              "      <td>56.231.76.18</td>\n",
              "      <td>9</td>\n",
              "      <td>9</td>\n",
              "    </tr>\n",
              "    <tr>\n",
              "      <th>11</th>\n",
              "      <td>17.25.131.171</td>\n",
              "      <td>81.192.174.206</td>\n",
              "      <td>10</td>\n",
              "      <td>10</td>\n",
              "    </tr>\n",
              "    <tr>\n",
              "      <th>12</th>\n",
              "      <td>73.58.240.63</td>\n",
              "      <td>99.117.45.35</td>\n",
              "      <td>11</td>\n",
              "      <td>11</td>\n",
              "    </tr>\n",
              "    <tr>\n",
              "      <th>13</th>\n",
              "      <td>176.240.154.159</td>\n",
              "      <td>151.108.203.117</td>\n",
              "      <td>12</td>\n",
              "      <td>12</td>\n",
              "    </tr>\n",
              "    <tr>\n",
              "      <th>14</th>\n",
              "      <td>38.206.128.77</td>\n",
              "      <td>1.5.215.114</td>\n",
              "      <td>13</td>\n",
              "      <td>13</td>\n",
              "    </tr>\n",
              "    <tr>\n",
              "      <th>15</th>\n",
              "      <td>226.250.192.168</td>\n",
              "      <td>180.108.208.209</td>\n",
              "      <td>0</td>\n",
              "      <td>14</td>\n",
              "    </tr>\n",
              "    <tr>\n",
              "      <th>16</th>\n",
              "      <td>79.26.98.205</td>\n",
              "      <td>97.171.156.153</td>\n",
              "      <td>14</td>\n",
              "      <td>15</td>\n",
              "    </tr>\n",
              "    <tr>\n",
              "      <th>17</th>\n",
              "      <td>143.207.234.243</td>\n",
              "      <td>39.242.187.39</td>\n",
              "      <td>15</td>\n",
              "      <td>16</td>\n",
              "    </tr>\n",
              "    <tr>\n",
              "      <th>18</th>\n",
              "      <td>105.86.246.100</td>\n",
              "      <td>242.94.190.82</td>\n",
              "      <td>16</td>\n",
              "      <td>17</td>\n",
              "    </tr>\n",
              "    <tr>\n",
              "      <th>19</th>\n",
              "      <td>111.212.55.20</td>\n",
              "      <td>195.215.145.99</td>\n",
              "      <td>17</td>\n",
              "      <td>3</td>\n",
              "    </tr>\n",
              "    <tr>\n",
              "      <th>20</th>\n",
              "      <td>226.250.192.168</td>\n",
              "      <td>36.70.168.49</td>\n",
              "      <td>0</td>\n",
              "      <td>7</td>\n",
              "    </tr>\n",
              "  </tbody>\n",
              "</table>\n",
              "</div>"
            ],
            "text/plain": [
              "            srcaddr         destaddr  srcint  destint\n",
              "0   226.250.192.168    7.105.169.129       0        0\n",
              "1    22.191.230.164     79.64.84.231       1        1\n",
              "2   140.158.210.113   224.130.88.241       2        2\n",
              "3   109.134.252.111   195.215.145.99       3        3\n",
              "4      51.227.248.3     157.136.6.22       4        4\n",
              "5     57.109.60.180   47.219.197.213       5        5\n",
              "6     173.67.206.11   240.228.40.207       6        6\n",
              "7   226.250.192.168     36.70.168.49       0        7\n",
              "8     88.27.104.123   198.133.95.169       7        8\n",
              "9    170.222.188.73   195.215.145.99       8        3\n",
              "10  238.132.102.138     56.231.76.18       9        9\n",
              "11    17.25.131.171   81.192.174.206      10       10\n",
              "12     73.58.240.63     99.117.45.35      11       11\n",
              "13  176.240.154.159  151.108.203.117      12       12\n",
              "14    38.206.128.77      1.5.215.114      13       13\n",
              "15  226.250.192.168  180.108.208.209       0       14\n",
              "16     79.26.98.205   97.171.156.153      14       15\n",
              "17  143.207.234.243    39.242.187.39      15       16\n",
              "18   105.86.246.100    242.94.190.82      16       17\n",
              "19    111.212.55.20   195.215.145.99      17        3\n",
              "20  226.250.192.168     36.70.168.49       0        7"
            ]
          },
          "metadata": {
            "tags": []
          },
          "execution_count": 10
        }
      ]
    },
    {
      "cell_type": "code",
      "metadata": {
        "colab": {
          "base_uri": "https://localhost:8080/"
        },
        "id": "JEuyRcqD7QPF",
        "outputId": "98b6251e-6af7-4b5e-83da-296485038ce0"
      },
      "source": [
        "print(ip2ip.head())"
      ],
      "id": "JEuyRcqD7QPF",
      "execution_count": 11,
      "outputs": [
        {
          "output_type": "stream",
          "text": [
            "           srcaddr        destaddr  srcint  destint\n",
            "0  226.250.192.168   7.105.169.129       0        0\n",
            "1   22.191.230.164    79.64.84.231       1        1\n",
            "2  140.158.210.113  224.130.88.241       2        2\n",
            "3  109.134.252.111  195.215.145.99       3        3\n",
            "4     51.227.248.3    157.136.6.22       4        4\n"
          ],
          "name": "stdout"
        }
      ]
    },
    {
      "cell_type": "code",
      "metadata": {
        "scrolled": true,
        "id": "koej3MZd7QPF"
      },
      "source": [
        "#ip2ip.groupby([\"srcint\", \"destint\"]).size()\n",
        "#x = ip2ip.groupby([\"srcint\", \"destint\"]).size()\n",
        "#print(x)\n",
        "#x[0].sum()\n",
        "#x[0][0]"
      ],
      "id": "koej3MZd7QPF",
      "execution_count": 12,
      "outputs": []
    },
    {
      "cell_type": "code",
      "metadata": {
        "id": "Rcymd59L7QPG"
      },
      "source": [
        "#x[1:3][:]\n",
        "#x.iloc[1]"
      ],
      "id": "Rcymd59L7QPG",
      "execution_count": 13,
      "outputs": []
    },
    {
      "cell_type": "code",
      "metadata": {
        "colab": {
          "base_uri": "https://localhost:8080/"
        },
        "id": "If_ZMfuh7QPG",
        "outputId": "d282d125-8c2d-44e4-e85e-40a679c7b7af"
      },
      "source": [
        "x = ip2ip.groupby([\"srcint\", \"destint\"]).indices\n",
        "x\n",
        "y = {k:len(v) for k, v in x.items()}\n",
        "y"
      ],
      "id": "If_ZMfuh7QPG",
      "execution_count": 14,
      "outputs": [
        {
          "output_type": "execute_result",
          "data": {
            "text/plain": [
              "{(0, 0): 1,\n",
              " (0, 7): 2,\n",
              " (0, 14): 1,\n",
              " (1, 1): 1,\n",
              " (2, 2): 1,\n",
              " (3, 3): 1,\n",
              " (4, 4): 1,\n",
              " (5, 5): 1,\n",
              " (6, 6): 1,\n",
              " (7, 8): 1,\n",
              " (8, 3): 1,\n",
              " (9, 9): 1,\n",
              " (10, 10): 1,\n",
              " (11, 11): 1,\n",
              " (12, 12): 1,\n",
              " (13, 13): 1,\n",
              " (14, 15): 1,\n",
              " (15, 16): 1,\n",
              " (16, 17): 1,\n",
              " (17, 3): 1}"
            ]
          },
          "metadata": {
            "tags": []
          },
          "execution_count": 14
        }
      ]
    },
    {
      "cell_type": "code",
      "metadata": {
        "id": "COOIOubr7QPH",
        "outputId": "19de1f8d-6cf7-4c5b-fdbf-709d37ef720a"
      },
      "source": [
        "list(y.keys())[2][1]"
      ],
      "id": "COOIOubr7QPH",
      "execution_count": null,
      "outputs": [
        {
          "output_type": "execute_result",
          "data": {
            "text/plain": [
              "14"
            ]
          },
          "metadata": {
            "tags": []
          },
          "execution_count": 11
        }
      ]
    },
    {
      "cell_type": "code",
      "metadata": {
        "id": "sY_geUzP7QPH"
      },
      "source": [
        ""
      ],
      "id": "sY_geUzP7QPH",
      "execution_count": null,
      "outputs": []
    },
    {
      "cell_type": "code",
      "metadata": {
        "id": "AdQgGnSi7QPI"
      },
      "source": [
        ""
      ],
      "id": "AdQgGnSi7QPI",
      "execution_count": null,
      "outputs": []
    },
    {
      "cell_type": "code",
      "metadata": {
        "id": "NnudLyaR7QPI",
        "outputId": "2addac24-2c05-4252-914e-c2afdf0d08f3"
      },
      "source": [
        "list(y.keys())[:][0]"
      ],
      "id": "NnudLyaR7QPI",
      "execution_count": null,
      "outputs": [
        {
          "output_type": "execute_result",
          "data": {
            "text/plain": [
              "(0, 0)"
            ]
          },
          "metadata": {
            "tags": []
          },
          "execution_count": 12
        }
      ]
    },
    {
      "cell_type": "code",
      "metadata": {
        "id": "Y1YhX1RH7QPI"
      },
      "source": [
        "vals = list(y.values())\n",
        "#vals"
      ],
      "id": "Y1YhX1RH7QPI",
      "execution_count": null,
      "outputs": []
    },
    {
      "cell_type": "code",
      "metadata": {
        "id": "9zxJit4k7QPJ"
      },
      "source": [
        "import scipy.sparse as sp"
      ],
      "id": "9zxJit4k7QPJ",
      "execution_count": null,
      "outputs": []
    },
    {
      "cell_type": "code",
      "metadata": {
        "scrolled": true,
        "id": "7S2qVAzL7QPJ",
        "outputId": "83ef201a-4720-44f7-a0d5-5bcbcfcee530"
      },
      "source": [
        "X = sp.csr_matrix((vals, (rows, cols)))"
      ],
      "id": "7S2qVAzL7QPJ",
      "execution_count": null,
      "outputs": [
        {
          "output_type": "error",
          "ename": "NameError",
          "evalue": "name 'rows' is not defined",
          "traceback": [
            "\u001b[0;31m---------------------------------------------------------------------------\u001b[0m",
            "\u001b[0;31mNameError\u001b[0m                                 Traceback (most recent call last)",
            "\u001b[0;32m<ipython-input-15-f06823ab5718>\u001b[0m in \u001b[0;36m<module>\u001b[0;34m\u001b[0m\n\u001b[0;32m----> 1\u001b[0;31m \u001b[0mX\u001b[0m \u001b[0;34m=\u001b[0m \u001b[0msp\u001b[0m\u001b[0;34m.\u001b[0m\u001b[0mcsr_matrix\u001b[0m\u001b[0;34m(\u001b[0m\u001b[0;34m(\u001b[0m\u001b[0mvals\u001b[0m\u001b[0;34m,\u001b[0m \u001b[0;34m(\u001b[0m\u001b[0mrows\u001b[0m\u001b[0;34m,\u001b[0m \u001b[0mcols\u001b[0m\u001b[0;34m)\u001b[0m\u001b[0;34m)\u001b[0m\u001b[0;34m)\u001b[0m\u001b[0;34m\u001b[0m\u001b[0;34m\u001b[0m\u001b[0m\n\u001b[0m",
            "\u001b[0;31mNameError\u001b[0m: name 'rows' is not defined"
          ]
        }
      ]
    },
    {
      "cell_type": "code",
      "metadata": {
        "id": "MKpSZuvP7QPJ"
      },
      "source": [
        ""
      ],
      "id": "MKpSZuvP7QPJ",
      "execution_count": null,
      "outputs": []
    },
    {
      "cell_type": "code",
      "metadata": {
        "id": "khiX8wcX7QPK"
      },
      "source": [
        ""
      ],
      "id": "khiX8wcX7QPK",
      "execution_count": null,
      "outputs": []
    },
    {
      "cell_type": "code",
      "metadata": {
        "id": "8Bu2lK-R7QPL"
      },
      "source": [
        ""
      ],
      "id": "8Bu2lK-R7QPL",
      "execution_count": null,
      "outputs": []
    },
    {
      "cell_type": "code",
      "metadata": {
        "id": "8r2nZql27QPL"
      },
      "source": [
        ""
      ],
      "id": "8r2nZql27QPL",
      "execution_count": null,
      "outputs": []
    },
    {
      "cell_type": "code",
      "metadata": {
        "id": "z3T3MmtY7QPL"
      },
      "source": [
        ""
      ],
      "id": "z3T3MmtY7QPL",
      "execution_count": null,
      "outputs": []
    },
    {
      "cell_type": "code",
      "metadata": {
        "id": "0KS7I35m7QPM"
      },
      "source": [
        ""
      ],
      "id": "0KS7I35m7QPM",
      "execution_count": null,
      "outputs": []
    },
    {
      "cell_type": "code",
      "metadata": {
        "id": "L9K5BbSt7QPM"
      },
      "source": [
        ""
      ],
      "id": "L9K5BbSt7QPM",
      "execution_count": null,
      "outputs": []
    },
    {
      "cell_type": "code",
      "metadata": {
        "id": "3-Q3_EIw7QPN"
      },
      "source": [
        ""
      ],
      "id": "3-Q3_EIw7QPN",
      "execution_count": null,
      "outputs": []
    },
    {
      "cell_type": "code",
      "metadata": {
        "id": "finikZDJ7QPN"
      },
      "source": [
        ""
      ],
      "id": "finikZDJ7QPN",
      "execution_count": null,
      "outputs": []
    },
    {
      "cell_type": "code",
      "metadata": {
        "id": "RO9iUfxA7QPO"
      },
      "source": [
        ""
      ],
      "id": "RO9iUfxA7QPO",
      "execution_count": null,
      "outputs": []
    },
    {
      "cell_type": "code",
      "metadata": {
        "id": "hqTwBY6T7QPO"
      },
      "source": [
        ""
      ],
      "id": "hqTwBY6T7QPO",
      "execution_count": null,
      "outputs": []
    },
    {
      "cell_type": "code",
      "metadata": {
        "id": "DAapTYq97QPO"
      },
      "source": [
        ""
      ],
      "id": "DAapTYq97QPO",
      "execution_count": null,
      "outputs": []
    },
    {
      "cell_type": "code",
      "metadata": {
        "id": "P_GcMQDn7QPO"
      },
      "source": [
        ""
      ],
      "id": "P_GcMQDn7QPO",
      "execution_count": null,
      "outputs": []
    },
    {
      "cell_type": "code",
      "metadata": {
        "id": "nESbQxLt7QPP"
      },
      "source": [
        ""
      ],
      "id": "nESbQxLt7QPP",
      "execution_count": null,
      "outputs": []
    },
    {
      "cell_type": "code",
      "metadata": {
        "id": "dW3YiFjg7QPP"
      },
      "source": [
        ""
      ],
      "id": "dW3YiFjg7QPP",
      "execution_count": null,
      "outputs": []
    },
    {
      "cell_type": "code",
      "metadata": {
        "id": "K0KZtCUw7QPP"
      },
      "source": [
        ""
      ],
      "id": "K0KZtCUw7QPP",
      "execution_count": null,
      "outputs": []
    },
    {
      "cell_type": "code",
      "metadata": {
        "id": "DCOstf8i7QPQ"
      },
      "source": [
        ""
      ],
      "id": "DCOstf8i7QPQ",
      "execution_count": null,
      "outputs": []
    },
    {
      "cell_type": "code",
      "metadata": {
        "id": "_TVx1Ywp7QPQ"
      },
      "source": [
        ""
      ],
      "id": "_TVx1Ywp7QPQ",
      "execution_count": null,
      "outputs": []
    },
    {
      "cell_type": "code",
      "metadata": {
        "id": "oRyUSWqk7QPS"
      },
      "source": [
        ""
      ],
      "id": "oRyUSWqk7QPS",
      "execution_count": null,
      "outputs": []
    },
    {
      "cell_type": "code",
      "metadata": {
        "id": "58Nm2MCC7QPS"
      },
      "source": [
        ""
      ],
      "id": "58Nm2MCC7QPS",
      "execution_count": null,
      "outputs": []
    },
    {
      "cell_type": "code",
      "metadata": {
        "id": "zP42wRj-7QPT"
      },
      "source": [
        ""
      ],
      "id": "zP42wRj-7QPT",
      "execution_count": null,
      "outputs": []
    },
    {
      "cell_type": "code",
      "metadata": {
        "id": "diDk7xsi7QPU"
      },
      "source": [
        ""
      ],
      "id": "diDk7xsi7QPU",
      "execution_count": null,
      "outputs": []
    },
    {
      "cell_type": "code",
      "metadata": {
        "id": "euwc_Cpk7QPU"
      },
      "source": [
        ""
      ],
      "id": "euwc_Cpk7QPU",
      "execution_count": null,
      "outputs": []
    },
    {
      "cell_type": "code",
      "metadata": {
        "id": "mWh3eKbC7QPU"
      },
      "source": [
        ""
      ],
      "id": "mWh3eKbC7QPU",
      "execution_count": null,
      "outputs": []
    },
    {
      "cell_type": "code",
      "metadata": {
        "id": "fBXICYFH7QPU"
      },
      "source": [
        ""
      ],
      "id": "fBXICYFH7QPU",
      "execution_count": null,
      "outputs": []
    }
  ]
}